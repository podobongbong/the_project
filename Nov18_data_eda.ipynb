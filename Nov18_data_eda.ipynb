{
  "nbformat": 4,
  "nbformat_minor": 0,
  "metadata": {
    "colab": {
      "provenance": [],
      "name": "Nov18_data_eda.ipynb",
      "include_colab_link": true
    },
    "kernelspec": {
      "name": "python3",
      "display_name": "Python 3"
    },
    "language_info": {
      "name": "python"
    }
  },
  "cells": [
    {
      "cell_type": "markdown",
      "metadata": {
        "id": "view-in-github",
        "colab_type": "text"
      },
      "source": [
        "<a href=\"https://colab.research.google.com/github/podobongbong/the_project/blob/main/Nov18_data_eda.ipynb\" target=\"_parent\"><img src=\"https://colab.research.google.com/assets/colab-badge.svg\" alt=\"Open In Colab\"/></a>"
      ]
    },
    {
      "cell_type": "code",
      "execution_count": 1,
      "metadata": {
        "colab": {
          "base_uri": "https://localhost:8080/"
        },
        "id": "N85nX2L8NuIi",
        "outputId": "68e64a6a-9aed-43d1-a617-333c995d7ef9"
      },
      "outputs": [
        {
          "output_type": "stream",
          "name": "stdout",
          "text": [
            "fatal: destination path 'the_project' already exists and is not an empty directory.\n"
          ]
        }
      ],
      "source": [
        "!git clone https://github.com/podobongbong/the_project.git\n",
        "import os\n",
        "os.chdir('/content/the_project')\n",
        "import pandas as pd\n"
      ]
    },
    {
      "cell_type": "code",
      "source": [
        "\n",
        "# Energy Data (2004-2023)\n",
        "energy_data = pd.read_csv('energy.csv')\n",
        "energy_data.columns = ['year','city','district','type','jan', 'feb', 'mar', 'apr', 'may', 'jun', 'jul', 'aug', 'sep', 'oct', 'nov', 'dec']\n",
        "\n",
        "#주택용\n",
        "energy_data = energy_data[energy_data['type']=='주택용']\n",
        "monthly_columns = ['jan', 'feb', 'mar', 'apr', 'may', 'jun', 'jul', 'aug', 'sep', 'oct', 'nov', 'dec']\n",
        "aggregated_data = energy_data.groupby(['year','city'])[monthly_columns].sum().reset_index()\n",
        "\n",
        "energy_data['city'] = energy_data['city'].replace({'서울특별시': 'seoul', '부산광역시': 'busan'})\n",
        "aggregated_energy_data = energy_data.groupby(['year', 'city'])[monthly_columns].sum().reset_index()\n",
        "\n",
        "energy_seoul = aggregated_energy_data[aggregated_energy_data['city'] == 'seoul']\n",
        "energy_busan = aggregated_energy_data[aggregated_energy_data['city'] == 'busan']\n",
        "\n",
        "# Population Data (2008-2023)\n",
        "population_data = pd.read_csv('/content/the_project/population.csv')\n",
        "population_data.columns = ['year', 'city', 'jan', 'feb', 'mar', 'apr', 'may', 'jun', 'jul', 'aug', 'sep', 'oct', 'nov', 'dec']\n",
        "population_data['city'] = population_data['city'].replace({'seoul': 'seoul', 'busan': 'busan'})"
      ],
      "metadata": {
        "id": "YnTiBAifNxLZ"
      },
      "execution_count": 2,
      "outputs": []
    },
    {
      "cell_type": "code",
      "source": [
        "# Urban Data (2014.07 -2023.12)\n",
        "\n",
        "urban_data = pd.read_csv('/content/the_project/urban_char.csv')"
      ],
      "metadata": {
        "id": "gyAJmiEzHv9h",
        "outputId": "79b4788d-16d3-4126-855d-b22994850821",
        "colab": {
          "base_uri": "https://localhost:8080/",
          "height": 408
        }
      },
      "execution_count": 3,
      "outputs": [
        {
          "output_type": "error",
          "ename": "FileNotFoundError",
          "evalue": "[Errno 2] No such file or directory: '/content/the_project/urban_char.csv'",
          "traceback": [
            "\u001b[0;31m---------------------------------------------------------------------------\u001b[0m",
            "\u001b[0;31mFileNotFoundError\u001b[0m                         Traceback (most recent call last)",
            "\u001b[0;32m<ipython-input-3-845fd42654f9>\u001b[0m in \u001b[0;36m<cell line: 3>\u001b[0;34m()\u001b[0m\n\u001b[1;32m      1\u001b[0m \u001b[0;31m# Urban Data (2014.07 -2023.12)\u001b[0m\u001b[0;34m\u001b[0m\u001b[0;34m\u001b[0m\u001b[0m\n\u001b[1;32m      2\u001b[0m \u001b[0;34m\u001b[0m\u001b[0m\n\u001b[0;32m----> 3\u001b[0;31m \u001b[0murban_data\u001b[0m \u001b[0;34m=\u001b[0m \u001b[0mpd\u001b[0m\u001b[0;34m.\u001b[0m\u001b[0mread_csv\u001b[0m\u001b[0;34m(\u001b[0m\u001b[0;34m'/content/the_project/urban_char.csv'\u001b[0m\u001b[0;34m)\u001b[0m\u001b[0;34m\u001b[0m\u001b[0;34m\u001b[0m\u001b[0m\n\u001b[0m",
            "\u001b[0;32m/usr/local/lib/python3.10/dist-packages/pandas/io/parsers/readers.py\u001b[0m in \u001b[0;36mread_csv\u001b[0;34m(filepath_or_buffer, sep, delimiter, header, names, index_col, usecols, dtype, engine, converters, true_values, false_values, skipinitialspace, skiprows, skipfooter, nrows, na_values, keep_default_na, na_filter, verbose, skip_blank_lines, parse_dates, infer_datetime_format, keep_date_col, date_parser, date_format, dayfirst, cache_dates, iterator, chunksize, compression, thousands, decimal, lineterminator, quotechar, quoting, doublequote, escapechar, comment, encoding, encoding_errors, dialect, on_bad_lines, delim_whitespace, low_memory, memory_map, float_precision, storage_options, dtype_backend)\u001b[0m\n\u001b[1;32m   1024\u001b[0m     \u001b[0mkwds\u001b[0m\u001b[0;34m.\u001b[0m\u001b[0mupdate\u001b[0m\u001b[0;34m(\u001b[0m\u001b[0mkwds_defaults\u001b[0m\u001b[0;34m)\u001b[0m\u001b[0;34m\u001b[0m\u001b[0;34m\u001b[0m\u001b[0m\n\u001b[1;32m   1025\u001b[0m \u001b[0;34m\u001b[0m\u001b[0m\n\u001b[0;32m-> 1026\u001b[0;31m     \u001b[0;32mreturn\u001b[0m \u001b[0m_read\u001b[0m\u001b[0;34m(\u001b[0m\u001b[0mfilepath_or_buffer\u001b[0m\u001b[0;34m,\u001b[0m \u001b[0mkwds\u001b[0m\u001b[0;34m)\u001b[0m\u001b[0;34m\u001b[0m\u001b[0;34m\u001b[0m\u001b[0m\n\u001b[0m\u001b[1;32m   1027\u001b[0m \u001b[0;34m\u001b[0m\u001b[0m\n\u001b[1;32m   1028\u001b[0m \u001b[0;34m\u001b[0m\u001b[0m\n",
            "\u001b[0;32m/usr/local/lib/python3.10/dist-packages/pandas/io/parsers/readers.py\u001b[0m in \u001b[0;36m_read\u001b[0;34m(filepath_or_buffer, kwds)\u001b[0m\n\u001b[1;32m    618\u001b[0m \u001b[0;34m\u001b[0m\u001b[0m\n\u001b[1;32m    619\u001b[0m     \u001b[0;31m# Create the parser.\u001b[0m\u001b[0;34m\u001b[0m\u001b[0;34m\u001b[0m\u001b[0m\n\u001b[0;32m--> 620\u001b[0;31m     \u001b[0mparser\u001b[0m \u001b[0;34m=\u001b[0m \u001b[0mTextFileReader\u001b[0m\u001b[0;34m(\u001b[0m\u001b[0mfilepath_or_buffer\u001b[0m\u001b[0;34m,\u001b[0m \u001b[0;34m**\u001b[0m\u001b[0mkwds\u001b[0m\u001b[0;34m)\u001b[0m\u001b[0;34m\u001b[0m\u001b[0;34m\u001b[0m\u001b[0m\n\u001b[0m\u001b[1;32m    621\u001b[0m \u001b[0;34m\u001b[0m\u001b[0m\n\u001b[1;32m    622\u001b[0m     \u001b[0;32mif\u001b[0m \u001b[0mchunksize\u001b[0m \u001b[0;32mor\u001b[0m \u001b[0miterator\u001b[0m\u001b[0;34m:\u001b[0m\u001b[0;34m\u001b[0m\u001b[0;34m\u001b[0m\u001b[0m\n",
            "\u001b[0;32m/usr/local/lib/python3.10/dist-packages/pandas/io/parsers/readers.py\u001b[0m in \u001b[0;36m__init__\u001b[0;34m(self, f, engine, **kwds)\u001b[0m\n\u001b[1;32m   1618\u001b[0m \u001b[0;34m\u001b[0m\u001b[0m\n\u001b[1;32m   1619\u001b[0m         \u001b[0mself\u001b[0m\u001b[0;34m.\u001b[0m\u001b[0mhandles\u001b[0m\u001b[0;34m:\u001b[0m \u001b[0mIOHandles\u001b[0m \u001b[0;34m|\u001b[0m \u001b[0;32mNone\u001b[0m \u001b[0;34m=\u001b[0m \u001b[0;32mNone\u001b[0m\u001b[0;34m\u001b[0m\u001b[0;34m\u001b[0m\u001b[0m\n\u001b[0;32m-> 1620\u001b[0;31m         \u001b[0mself\u001b[0m\u001b[0;34m.\u001b[0m\u001b[0m_engine\u001b[0m \u001b[0;34m=\u001b[0m \u001b[0mself\u001b[0m\u001b[0;34m.\u001b[0m\u001b[0m_make_engine\u001b[0m\u001b[0;34m(\u001b[0m\u001b[0mf\u001b[0m\u001b[0;34m,\u001b[0m \u001b[0mself\u001b[0m\u001b[0;34m.\u001b[0m\u001b[0mengine\u001b[0m\u001b[0;34m)\u001b[0m\u001b[0;34m\u001b[0m\u001b[0;34m\u001b[0m\u001b[0m\n\u001b[0m\u001b[1;32m   1621\u001b[0m \u001b[0;34m\u001b[0m\u001b[0m\n\u001b[1;32m   1622\u001b[0m     \u001b[0;32mdef\u001b[0m \u001b[0mclose\u001b[0m\u001b[0;34m(\u001b[0m\u001b[0mself\u001b[0m\u001b[0;34m)\u001b[0m \u001b[0;34m->\u001b[0m \u001b[0;32mNone\u001b[0m\u001b[0;34m:\u001b[0m\u001b[0;34m\u001b[0m\u001b[0;34m\u001b[0m\u001b[0m\n",
            "\u001b[0;32m/usr/local/lib/python3.10/dist-packages/pandas/io/parsers/readers.py\u001b[0m in \u001b[0;36m_make_engine\u001b[0;34m(self, f, engine)\u001b[0m\n\u001b[1;32m   1878\u001b[0m                 \u001b[0;32mif\u001b[0m \u001b[0;34m\"b\"\u001b[0m \u001b[0;32mnot\u001b[0m \u001b[0;32min\u001b[0m \u001b[0mmode\u001b[0m\u001b[0;34m:\u001b[0m\u001b[0;34m\u001b[0m\u001b[0;34m\u001b[0m\u001b[0m\n\u001b[1;32m   1879\u001b[0m                     \u001b[0mmode\u001b[0m \u001b[0;34m+=\u001b[0m \u001b[0;34m\"b\"\u001b[0m\u001b[0;34m\u001b[0m\u001b[0;34m\u001b[0m\u001b[0m\n\u001b[0;32m-> 1880\u001b[0;31m             self.handles = get_handle(\n\u001b[0m\u001b[1;32m   1881\u001b[0m                 \u001b[0mf\u001b[0m\u001b[0;34m,\u001b[0m\u001b[0;34m\u001b[0m\u001b[0;34m\u001b[0m\u001b[0m\n\u001b[1;32m   1882\u001b[0m                 \u001b[0mmode\u001b[0m\u001b[0;34m,\u001b[0m\u001b[0;34m\u001b[0m\u001b[0;34m\u001b[0m\u001b[0m\n",
            "\u001b[0;32m/usr/local/lib/python3.10/dist-packages/pandas/io/common.py\u001b[0m in \u001b[0;36mget_handle\u001b[0;34m(path_or_buf, mode, encoding, compression, memory_map, is_text, errors, storage_options)\u001b[0m\n\u001b[1;32m    871\u001b[0m         \u001b[0;32mif\u001b[0m \u001b[0mioargs\u001b[0m\u001b[0;34m.\u001b[0m\u001b[0mencoding\u001b[0m \u001b[0;32mand\u001b[0m \u001b[0;34m\"b\"\u001b[0m \u001b[0;32mnot\u001b[0m \u001b[0;32min\u001b[0m \u001b[0mioargs\u001b[0m\u001b[0;34m.\u001b[0m\u001b[0mmode\u001b[0m\u001b[0;34m:\u001b[0m\u001b[0;34m\u001b[0m\u001b[0;34m\u001b[0m\u001b[0m\n\u001b[1;32m    872\u001b[0m             \u001b[0;31m# Encoding\u001b[0m\u001b[0;34m\u001b[0m\u001b[0;34m\u001b[0m\u001b[0m\n\u001b[0;32m--> 873\u001b[0;31m             handle = open(\n\u001b[0m\u001b[1;32m    874\u001b[0m                 \u001b[0mhandle\u001b[0m\u001b[0;34m,\u001b[0m\u001b[0;34m\u001b[0m\u001b[0;34m\u001b[0m\u001b[0m\n\u001b[1;32m    875\u001b[0m                 \u001b[0mioargs\u001b[0m\u001b[0;34m.\u001b[0m\u001b[0mmode\u001b[0m\u001b[0;34m,\u001b[0m\u001b[0;34m\u001b[0m\u001b[0;34m\u001b[0m\u001b[0m\n",
            "\u001b[0;31mFileNotFoundError\u001b[0m: [Errno 2] No such file or directory: '/content/the_project/urban_char.csv'"
          ]
        }
      ]
    },
    {
      "cell_type": "code",
      "source": [
        "# Cliamte Data (2004-2023)\n",
        "climate_busan = pd.read_csv('/content/the_project/climate_busan.csv')\n",
        "climate_seoul = pd.read_csv('/content/the_project/climate_seoul.csv')\n",
        "climate_data = pd.concat([climate_busan, climate_seoul], ignore_index=True)\n",
        "df= climate_data.copy()\n",
        "\n",
        "df['temp_range'] = df['high'] - df['low']\n",
        "df['high_deviation'] = df['high'] - df['average']\n",
        "df['low_deviation'] = df['average'] - df['low']\n",
        "df = df.dropna()\n",
        "\n",
        "## Climate feature selection: Primary Component Analysis\n",
        "from sklearn.decomposition import PCA\n",
        "import pandas as pd\n",
        "climate_vars = df[['average', 'low', 'high', 'temp_range','high_deviation','low_deviation']]\n",
        "climate_vars = climate_vars.dropna()\n",
        "\n",
        "## Apply PCA to reduce to 1 or 2 components\n",
        "pca = PCA(n_components=1)  # Adjust to 1 or 2 based on analysis\n",
        "climate_pca = pca.fit_transform(climate_vars)\n",
        "df['climate_summary'] = climate_pca[:, 0]  # Only the first component\n",
        "df['city'] = df['station'].replace({108: 'seoul', 159: 'busan'})\n",
        "df['city'] = df['city'].astype(str)\n",
        "\n",
        "climate = df[['ym','city','climate_summary']]\n"
      ],
      "metadata": {
        "id": "Q6hsWjT3NzQs"
      },
      "execution_count": null,
      "outputs": []
    },
    {
      "cell_type": "code",
      "source": [
        "\n"
      ],
      "metadata": {
        "id": "3X6VWuYcN7Ax"
      },
      "execution_count": null,
      "outputs": []
    },
    {
      "cell_type": "code",
      "source": [
        "\n",
        "e_seoul = energy_seoul[monthly_columns].values.flatten().reshape(-1, 1)\n",
        "e_busan = energy_busan[monthly_columns].values.flatten().reshape(-1, 1)\n",
        "\n",
        "p_seoul = population_data[population_data['city'] == 'seoul'][monthly_columns].values.flatten().reshape(-1, 1)\n",
        "p_busan = population_data[population_data['city'] == 'busan'][monthly_columns].values.flatten().reshape(-1, 1)\n"
      ],
      "metadata": {
        "id": "yGqVToprOgly"
      },
      "execution_count": null,
      "outputs": []
    },
    {
      "cell_type": "code",
      "source": [
        "c_vars = ['ym','average', 'low', 'high', 'temp_range','high_deviation','low_deviation','climate_summary']\n",
        "seoul = df[df['city']=='seoul'][c_vars]\n",
        "busan = df[df['city']=='busan'][c_vars]"
      ],
      "metadata": {
        "id": "ZrS9HrxNRXGL"
      },
      "execution_count": null,
      "outputs": []
    },
    {
      "cell_type": "code",
      "source": [
        "seoul['energy']=e_seoul\n",
        "busan['energy']=e_busan"
      ],
      "metadata": {
        "id": "phd46obaUkBu"
      },
      "execution_count": null,
      "outputs": []
    },
    {
      "cell_type": "code",
      "source": [
        "seoul_08 = seoul.iloc[48:240].reset_index(drop=True)\n",
        "busan_08 = busan.iloc[48:240].reset_index(drop=True)\n",
        "seoul_08['pop'] = p_seoul[0:192]\n",
        "busan_08['pop'] = p_busan[0:192]"
      ],
      "metadata": {
        "id": "unC3PMuUYOV0"
      },
      "execution_count": null,
      "outputs": []
    },
    {
      "cell_type": "code",
      "source": [
        "# prompt: seoul_08 exploratory data analysis\n",
        "\n",
        "\n",
        "# Descriptive Statistics\n",
        "print(seoul_08.describe())\n",
        "\n",
        "import matplotlib.pyplot as plt\n",
        "import seaborn as sns\n",
        "# Convert the 'ym' column to datetime objects\n",
        "seoul_08['ym'] = pd.to_datetime(seoul_08['ym'].str.strip(), format='%Y-%m')\n",
        "\n",
        "# Extract the month as a numerical feature for correlation analysis\n",
        "seoul_08['month'] = seoul_08['ym'].dt.month\n",
        "\n",
        "# Correlation Matrix (excluding the original 'ym' column)\n",
        "correlation_matrix = seoul_08.drop(columns=['ym']).corr()  # Exclude 'ym'\n",
        "plt.figure(figsize=(12, 10))\n",
        "sns.heatmap(correlation_matrix, annot=True, cmap='coolwarm', fmt=\".2f\")\n",
        "plt.title('Correlation Matrix of Seoul Energy Consumption and Climate Variables (2008-2023)')\n",
        "plt.show()\n",
        "\n",
        "# Time Series Plots for all variables in seoul_08\n",
        "for column in seoul_08.columns:\n",
        "  if column not in ['ym', 'month']:  # Exclude 'ym' and 'month' columns\n",
        "    plt.figure(figsize=(12, 6))\n",
        "    plt.plot(seoul_08['ym'], seoul_08[column])\n",
        "    plt.xlabel('Month')\n",
        "    plt.ylabel(column)\n",
        "    plt.title(f'Seoul {column} Trend (2008-2023)')\n",
        "    plt.xticks(rotation=45)\n",
        "    plt.show()\n"
      ],
      "metadata": {
        "id": "dlMy0TgvYk6A"
      },
      "execution_count": null,
      "outputs": []
    },
    {
      "cell_type": "code",
      "source": [
        "# prompt: busan_08 exploratory data analysis\n",
        "\n",
        "# Descriptive Statistics\n",
        "print(busan_08.describe())\n",
        "\n",
        "import matplotlib.pyplot as plt\n",
        "import seaborn as sns\n",
        "# Convert the 'ym' column to datetime objects\n",
        "busan_08['ym'] = pd.to_datetime(busan_08['ym'].str.strip(), format='%Y-%m')\n",
        "\n",
        "# Extract the month as a numerical feature for correlation analysis\n",
        "busan_08['month'] = busan_08['ym'].dt.month\n",
        "\n",
        "# Correlation Matrix (excluding the original 'ym' column)\n",
        "correlation_matrix = busan_08.drop(columns=['ym']).corr()  # Exclude 'ym'\n",
        "plt.figure(figsize=(12, 10))\n",
        "sns.heatmap(correlation_matrix, annot=True, cmap='coolwarm', fmt=\".2f\")\n",
        "plt.title('Correlation Matrix of Busan Energy Consumption and Climate Variables (2008-2023)')\n",
        "plt.show()\n",
        "\n",
        "\n",
        "\n",
        "# Time Series Plots for all variables in busan_08\n",
        "for column in busan_08.columns:\n",
        "  if column not in ['ym', 'month']:  # Exclude 'ym' and 'month' columns\n",
        "    plt.figure(figsize=(12, 6))\n",
        "    plt.plot(busan_08['ym'], busan_08[column])\n",
        "    plt.xlabel('Month')\n",
        "    plt.ylabel(column)\n",
        "    plt.title(f'Busan {column} Trend (2008-2023)')\n",
        "    plt.xticks(rotation=45)\n",
        "    plt.show()\n",
        "\n"
      ],
      "metadata": {
        "id": "3ocxyoP5ad7D"
      },
      "execution_count": null,
      "outputs": []
    },
    {
      "cell_type": "code",
      "source": [
        "#부산, 서울 모두 2010년 10월 인구 통계가 뜀: 거주불명자(2010년 10월부터 통계포함)로 인한 것으로 보임. 거주불명자 인구 따로 제공 되지 않음"
      ],
      "metadata": {
        "id": "ouYWR2C4cU8N"
      },
      "execution_count": null,
      "outputs": []
    },
    {
      "cell_type": "code",
      "source": [],
      "metadata": {
        "id": "_Lg4vFi8het1"
      },
      "execution_count": null,
      "outputs": []
    }
  ]
}
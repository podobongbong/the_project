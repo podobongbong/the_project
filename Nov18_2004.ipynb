{
  "nbformat": 4,
  "nbformat_minor": 0,
  "metadata": {
    "colab": {
      "provenance": [],
      "include_colab_link": true
    },
    "kernelspec": {
      "name": "python3",
      "display_name": "Python 3"
    },
    "language_info": {
      "name": "python"
    }
  },
  "cells": [
    {
      "cell_type": "markdown",
      "metadata": {
        "id": "view-in-github",
        "colab_type": "text"
      },
      "source": [
        "<a href=\"https://colab.research.google.com/github/podobongbong/the_project/blob/main/Nov18_2004.ipynb\" target=\"_parent\"><img src=\"https://colab.research.google.com/assets/colab-badge.svg\" alt=\"Open In Colab\"/></a>"
      ]
    },
    {
      "cell_type": "code",
      "execution_count": 1,
      "metadata": {
        "colab": {
          "base_uri": "https://localhost:8080/"
        },
        "id": "N85nX2L8NuIi",
        "outputId": "8d52ac2b-a3a9-4b24-dc9d-8e6d6522077e"
      },
      "outputs": [
        {
          "output_type": "stream",
          "name": "stdout",
          "text": [
            "fatal: destination path 'the_project' already exists and is not an empty directory.\n"
          ]
        }
      ],
      "source": [
        "!git clone https://github.com/podobongbong/the_project.git\n",
        "import os\n",
        "os.chdir('/content/the_project')\n",
        "import pandas as pd\n"
      ]
    },
    {
      "cell_type": "code",
      "source": [
        "\n",
        "# Energy Data (2004-2023)\n",
        "energy_data = pd.read_csv('/content/the_project/data/energy.csv')\n",
        "energy_data.columns = ['year','city','district','type','jan', 'feb', 'mar', 'apr', 'may', 'jun', 'jul', 'aug', 'sep', 'oct', 'nov', 'dec']\n",
        "\n",
        "#주택용\n",
        "energy_data = energy_data[energy_data['type']=='주택용']\n",
        "monthly_columns = ['jan', 'feb', 'mar', 'apr', 'may', 'jun', 'jul', 'aug', 'sep', 'oct', 'nov', 'dec']\n",
        "aggregated_data = energy_data.groupby(['year','city'])[monthly_columns].sum().reset_index()\n",
        "\n",
        "energy_data['city'] = energy_data['city'].replace({'서울특별시': 'seoul', '부산광역시': 'busan'})\n",
        "aggregated_energy_data = energy_data.groupby(['year', 'city'])[monthly_columns].sum().reset_index()\n",
        "\n",
        "energy_seoul = aggregated_energy_data[aggregated_energy_data['city'] == 'seoul']\n",
        "energy_busan = aggregated_energy_data[aggregated_energy_data['city'] == 'busan']\n"
      ],
      "metadata": {
        "id": "YnTiBAifNxLZ"
      },
      "execution_count": 2,
      "outputs": []
    },
    {
      "cell_type": "code",
      "source": [
        "# Population Data (2008-2023)\n",
        "population_data = pd.read_csv('/content/the_project/data/population.csv')\n",
        "population_data.columns = ['year', 'city', 'jan', 'feb', 'mar', 'apr', 'may', 'jun', 'jul', 'aug', 'sep', 'oct', 'nov', 'dec']\n",
        "population_data['city'] = population_data['city'].replace({'seoul': 'seoul', 'busan': 'busan'})\n"
      ],
      "metadata": {
        "id": "Q6hsWjT3NzQs"
      },
      "execution_count": 3,
      "outputs": []
    },
    {
      "cell_type": "code",
      "source": [],
      "metadata": {
        "id": "hiZxQgOb-zB5"
      },
      "execution_count": 3,
      "outputs": []
    },
    {
      "cell_type": "code",
      "source": [
        "\n",
        "# Cliamte Data (2004-2023)\n",
        "climate_busan = pd.read_csv('/content/the_project/data/climate_busan.csv')\n",
        "climate_seoul = pd.read_csv('/content/the_project/data/climate_seoul.csv')\n",
        "climate_data = pd.concat([climate_busan, climate_seoul], ignore_index=True)\n",
        "df= climate_data.copy()\n",
        "\n",
        "df['temp_range'] = df['high'] - df['low']\n",
        "df['high_deviation'] = df['high'] - df['average']\n",
        "df['low_deviation'] = df['average'] - df['low']\n",
        "df = df.dropna()\n",
        "\n",
        "## Climate feature selection: Primary Component Analysis\n",
        "from sklearn.decomposition import PCA\n",
        "import pandas as pd\n",
        "climate_vars = df[['average', 'low', 'high', 'temp_range','high_deviation','low_deviation']]\n",
        "climate_vars = climate_vars.dropna()\n",
        "\n",
        "## Apply PCA to reduce to 1 or 2 components\n",
        "pca = PCA(n_components=1)  # Adjust to 1 or 2 based on analysis\n",
        "climate_pca = pca.fit_transform(climate_vars)\n",
        "df['climate_summary'] = climate_pca[:, 0]  # Only the first component\n",
        "df['city'] = df['station'].replace({108: 'seoul', 159: 'busan'})\n",
        "df['city'] = df['city'].astype(str)\n",
        "\n",
        "climate = df[['ym','city','climate_summary']]"
      ],
      "metadata": {
        "id": "3X6VWuYcN7Ax"
      },
      "execution_count": 4,
      "outputs": []
    },
    {
      "cell_type": "code",
      "source": [
        "urban_data = pd.read_csv('/content/the_project/data/urban_char.csv')\n",
        "u_bcr_seoul = urban_data[urban_data['city']=='seoul']['bcr'].values.flatten().reshape(-1, 1)\n",
        "u_bcr_busan = urban_data[urban_data['city']=='busan']['bcr'].values.flatten().reshape(-1, 1)\n",
        "u_far_seoul = urban_data[urban_data['city']=='seoul']['far'].values.flatten().reshape(-1, 1)\n",
        "u_far_busan = urban_data[urban_data['city']=='busan']['far'].values.flatten().reshape(-1, 1)"
      ],
      "metadata": {
        "id": "Ff1FDvA1yFrx"
      },
      "execution_count": 5,
      "outputs": []
    },
    {
      "cell_type": "code",
      "source": [
        "\n",
        "e_seoul = energy_seoul[monthly_columns].values.flatten().reshape(-1, 1)\n",
        "e_busan = energy_busan[monthly_columns].values.flatten().reshape(-1, 1)\n",
        "\n",
        "p_seoul = population_data[population_data['city'] == 'seoul'][monthly_columns].values.flatten().reshape(-1, 1)\n",
        "p_busan = population_data[population_data['city'] == 'busan'][monthly_columns].values.flatten().reshape(-1, 1)\n",
        "\n"
      ],
      "metadata": {
        "id": "yGqVToprOgly"
      },
      "execution_count": 6,
      "outputs": []
    },
    {
      "cell_type": "code",
      "source": [
        "c_vars = ['ym','average', 'low', 'high', 'temp_range','high_deviation','low_deviation','climate_summary']\n",
        "seoul = df[df['city']=='seoul'][c_vars]\n",
        "busan = df[df['city']=='busan'][c_vars]"
      ],
      "metadata": {
        "id": "ZrS9HrxNRXGL"
      },
      "execution_count": 7,
      "outputs": []
    },
    {
      "cell_type": "code",
      "source": [
        "seoul['energy']=e_seoul\n",
        "busan['energy']=e_busan"
      ],
      "metadata": {
        "id": "phd46obaUkBu"
      },
      "execution_count": 8,
      "outputs": []
    },
    {
      "cell_type": "code",
      "source": [
        "# imputate 2004-2007 (36 value) with mean value of population\n",
        "import numpy as np\n",
        "\n",
        "p_seoul_mean = np.mean(p_seoul)\n",
        "p_seoul_04 = np.repeat(p_seoul_mean, 36).reshape(-1, 1)\n",
        "p_seoul_combined = np.concatenate((p_seoul, p_seoul_04), axis=0)\n",
        "\n",
        "p_busan_mean = np.mean(p_busan)\n",
        "p_busan_04 = np.repeat(p_busan_mean, 36).reshape(-1, 1)\n",
        "p_busan_combined = np.concatenate((p_busan, p_busan_04), axis=0)\n",
        "\n",
        "u_bcr_seoul_04 = np.repeat(np.mean(u_bcr_seoul), 126).reshape(-1, 1)\n",
        "u_bcr_seoul_combined = np.concatenate((u_bcr_seoul, u_bcr_seoul_04), axis=0)\n",
        "\n",
        "u_far_seoul_04 = np.repeat(np.mean(u_far_seoul), 126).reshape(-1, 1)\n",
        "u_far_seoul_combined = np.concatenate((u_far_seoul, u_far_seoul_04), axis=0)\n",
        "\n",
        "u_far_busan_04 = np.repeat(np.mean(u_far_busan), 126).reshape(-1, 1)\n",
        "u_far_busan_combined = np.concatenate((u_far_busan, u_far_busan_04), axis=0)\n",
        "\n",
        "u_bcr_busan_04 = np.repeat(np.mean(u_bcr_busan), 126).reshape(-1, 1)\n",
        "u_bcr_busan_combined = np.concatenate((u_bcr_busan, u_bcr_busan_04), axis=0)\n"
      ],
      "metadata": {
        "id": "ueYZLsGB_L5U"
      },
      "execution_count": 9,
      "outputs": []
    },
    {
      "cell_type": "code",
      "source": [
        "seoul_04 = seoul.iloc[0:240].reset_index(drop=True)\n",
        "busan_04 = busan.iloc[0:240].reset_index(drop=True)\n",
        "seoul_04['pop'] = p_seoul_combined[0:240]\n",
        "busan_04['pop'] = p_busan_combined[0:240]\n",
        "seoul_04['urban_bcr'] = u_bcr_seoul_combined\n",
        "seoul_04['urban_far'] = u_far_seoul_combined\n",
        "busan_04['urban_bcr'] = u_bcr_busan_combined\n",
        "busan_04['urban_far'] = u_far_busan_combined"
      ],
      "metadata": {
        "id": "unC3PMuUYOV0"
      },
      "execution_count": 10,
      "outputs": []
    },
    {
      "cell_type": "code",
      "source": [
        "seoul_04.to_csv('/content/the_project/seoul_04.csv', index=False)\n",
        "busan_04.to_csv('/content/the_project/busan_04.csv', index=False)"
      ],
      "metadata": {
        "id": "xCtXQRWWCs-S"
      },
      "execution_count": 11,
      "outputs": []
    },
    {
      "cell_type": "code",
      "source": [
        "# prompt: seoul_08 exploratory data analysis\n",
        "\n",
        "\n",
        "# Descriptive Statistics\n",
        "print(seoul_04.describe())\n",
        "\n",
        "import matplotlib.pyplot as plt\n",
        "import seaborn as sns\n",
        "# Convert the 'ym' column to datetime objects\n",
        "seoul_08['ym'] = pd.to_datetime(seoul_08['ym'].str.strip(), format='%Y-%m')\n",
        "\n",
        "# Extract the month as a numerical feature for correlation analysis\n",
        "seoul_08['month'] = seoul_08['ym'].dt.month\n",
        "\n",
        "# Correlation Matrix (excluding the original 'ym' column)\n",
        "correlation_matrix = seoul_08.drop(columns=['ym']).corr()  # Exclude 'ym'\n",
        "plt.figure(figsize=(12, 10))\n",
        "sns.heatmap(correlation_matrix, annot=True, cmap='coolwarm', fmt=\".2f\")\n",
        "plt.title('Correlation Matrix of Seoul Energy Consumption and Climate Variables (2008-2023)')\n",
        "plt.show()\n",
        "\n",
        "# Time Series Plots for all variables in seoul_08\n",
        "for column in seoul_08.columns:\n",
        "  if column not in ['ym', 'month']:  # Exclude 'ym' and 'month' columns\n",
        "    plt.figure(figsize=(12, 6))\n",
        "    plt.plot(seoul_08['ym'], seoul_08[column])\n",
        "    plt.xlabel('Month')\n",
        "    plt.ylabel(column)\n",
        "    plt.title(f'Seoul {column} Trend (2008-2023)')\n",
        "    plt.xticks(rotation=45)\n",
        "    plt.show()\n"
      ],
      "metadata": {
        "colab": {
          "base_uri": "https://localhost:8080/",
          "height": 211
        },
        "id": "dlMy0TgvYk6A",
        "outputId": "9715d14a-9c17-4b1a-fb92-7cef57a4e6eb"
      },
      "execution_count": 12,
      "outputs": [
        {
          "output_type": "error",
          "ename": "NameError",
          "evalue": "name 'seoul_08' is not defined",
          "traceback": [
            "\u001b[0;31m---------------------------------------------------------------------------\u001b[0m",
            "\u001b[0;31mNameError\u001b[0m                                 Traceback (most recent call last)",
            "\u001b[0;32m<ipython-input-12-d85d95d4eb0d>\u001b[0m in \u001b[0;36m<cell line: 5>\u001b[0;34m()\u001b[0m\n\u001b[1;32m      3\u001b[0m \u001b[0;34m\u001b[0m\u001b[0m\n\u001b[1;32m      4\u001b[0m \u001b[0;31m# Descriptive Statistics\u001b[0m\u001b[0;34m\u001b[0m\u001b[0;34m\u001b[0m\u001b[0m\n\u001b[0;32m----> 5\u001b[0;31m \u001b[0mprint\u001b[0m\u001b[0;34m(\u001b[0m\u001b[0mseoul_08\u001b[0m\u001b[0;34m.\u001b[0m\u001b[0mdescribe\u001b[0m\u001b[0;34m(\u001b[0m\u001b[0;34m)\u001b[0m\u001b[0;34m)\u001b[0m\u001b[0;34m\u001b[0m\u001b[0;34m\u001b[0m\u001b[0m\n\u001b[0m\u001b[1;32m      6\u001b[0m \u001b[0;34m\u001b[0m\u001b[0m\n\u001b[1;32m      7\u001b[0m \u001b[0;32mimport\u001b[0m \u001b[0mmatplotlib\u001b[0m\u001b[0;34m.\u001b[0m\u001b[0mpyplot\u001b[0m \u001b[0;32mas\u001b[0m \u001b[0mplt\u001b[0m\u001b[0;34m\u001b[0m\u001b[0;34m\u001b[0m\u001b[0m\n",
            "\u001b[0;31mNameError\u001b[0m: name 'seoul_08' is not defined"
          ]
        }
      ]
    },
    {
      "cell_type": "code",
      "source": [
        "# prompt: busan_08 exploratory data analysis\n",
        "\n",
        "# Descriptive Statistics\n",
        "print(busan_08.describe())\n",
        "\n",
        "import matplotlib.pyplot as plt\n",
        "import seaborn as sns\n",
        "# Convert the 'ym' column to datetime objects\n",
        "busan_08['ym'] = pd.to_datetime(busan_08['ym'].str.strip(), format='%Y-%m')\n",
        "\n",
        "# Extract the month as a numerical feature for correlation analysis\n",
        "busan_08['month'] = busan_08['ym'].dt.month\n",
        "\n",
        "# Correlation Matrix (excluding the original 'ym' column)\n",
        "correlation_matrix = busan_08.drop(columns=['ym']).corr()  # Exclude 'ym'\n",
        "plt.figure(figsize=(12, 10))\n",
        "sns.heatmap(correlation_matrix, annot=True, cmap='coolwarm', fmt=\".2f\")\n",
        "plt.title('Correlation Matrix of Busan Energy Consumption and Climate Variables (2008-2023)')\n",
        "plt.show()\n",
        "\n",
        "\n",
        "\n",
        "# Time Series Plots for all variables in busan_08\n",
        "for column in busan_08.columns:\n",
        "  if column not in ['ym', 'month']:  # Exclude 'ym' and 'month' columns\n",
        "    plt.figure(figsize=(12, 6))\n",
        "    plt.plot(busan_08['ym'], busan_08[column])\n",
        "    plt.xlabel('Month')\n",
        "    plt.ylabel(column)\n",
        "    plt.title(f'Busan {column} Trend (2008-2023)')\n",
        "    plt.xticks(rotation=45)\n",
        "    plt.show()\n",
        "\n"
      ],
      "metadata": {
        "id": "3ocxyoP5ad7D"
      },
      "execution_count": null,
      "outputs": []
    },
    {
      "cell_type": "code",
      "source": [
        "#부산, 서울 모두 2010년 10월 인구 통계가 뜀: 거주불명자(2010년 10월부터 통계포함)로 인한 것으로 보임. 거주불명자 인구 따로 제공 되지 않음"
      ],
      "metadata": {
        "id": "ouYWR2C4cU8N"
      },
      "execution_count": null,
      "outputs": []
    },
    {
      "cell_type": "code",
      "source": [],
      "metadata": {
        "id": "_Lg4vFi8het1"
      },
      "execution_count": null,
      "outputs": []
    }
  ]
}